{
  "nbformat": 4,
  "nbformat_minor": 0,
  "metadata": {
    "colab": {
      "name": "Maleria Detection",
      "provenance": [],
      "machine_shape": "hm"
    },
    "kernelspec": {
      "name": "python3",
      "display_name": "Python 3"
    },
    "accelerator": "GPU"
  },
  "cells": [
    {
      "cell_type": "code",
      "metadata": {
        "id": "78_VrUWA8S2V",
        "colab_type": "code",
        "outputId": "3bd84857-d397-4d60-fab8-aab894eac00c",
        "colab": {
          "base_uri": "https://localhost:8080/",
          "height": 122
        }
      },
      "source": [
        "from google.colab import drive\n",
        "drive.mount('/content/drive')"
      ],
      "execution_count": 1,
      "outputs": [
        {
          "output_type": "stream",
          "text": [
            "Go to this URL in a browser: https://accounts.google.com/o/oauth2/auth?client_id=947318989803-6bn6qk8qdgf4n4g3pfee6491hc0brc4i.apps.googleusercontent.com&redirect_uri=urn%3aietf%3awg%3aoauth%3a2.0%3aoob&response_type=code&scope=email%20https%3a%2f%2fwww.googleapis.com%2fauth%2fdocs.test%20https%3a%2f%2fwww.googleapis.com%2fauth%2fdrive%20https%3a%2f%2fwww.googleapis.com%2fauth%2fdrive.photos.readonly%20https%3a%2f%2fwww.googleapis.com%2fauth%2fpeopleapi.readonly\n",
            "\n",
            "Enter your authorization code:\n",
            "··········\n",
            "Mounted at /content/drive\n"
          ],
          "name": "stdout"
        }
      ]
    },
    {
      "cell_type": "code",
      "metadata": {
        "id": "sIwFpcI58Vpv",
        "colab_type": "code",
        "outputId": "2679dc6d-3d35-4c7d-bf65-97d4e4d58ff4",
        "colab": {
          "base_uri": "https://localhost:8080/",
          "height": 34
        }
      },
      "source": [
        "# Extract Files from Zip file\n",
        "from zipfile import ZipFile\n",
        "read_file='/content/drive/My Drive/cell-images-for-detecting-malaria.zip'\n",
        "with ZipFile(read_file,'r') as f:\n",
        "  f.extractall()\n",
        "  print('Done')"
      ],
      "execution_count": 2,
      "outputs": [
        {
          "output_type": "stream",
          "text": [
            "Done\n"
          ],
          "name": "stdout"
        }
      ]
    },
    {
      "cell_type": "code",
      "metadata": {
        "id": "cTZ7Cjel9Pex",
        "colab_type": "code",
        "outputId": "f1db376f-d4e1-42b2-d2d7-67ad0466207d",
        "colab": {
          "base_uri": "https://localhost:8080/",
          "height": 34
        }
      },
      "source": [
        "! ls\n"
      ],
      "execution_count": 3,
      "outputs": [
        {
          "output_type": "stream",
          "text": [
            "cell_images  drive  sample_data\n"
          ],
          "name": "stdout"
        }
      ]
    },
    {
      "cell_type": "code",
      "metadata": {
        "id": "V_om0lBN9cWu",
        "colab_type": "code",
        "outputId": "492d3867-cdf9-4c0e-894b-293669b4e073",
        "colab": {
          "base_uri": "https://localhost:8080/",
          "height": 34
        }
      },
      "source": [
        "# Import Required libraries\n",
        "import glob\n",
        "import numpy as np\n",
        "from keras.preprocessing.image import ImageDataGenerator,img_to_array,array_to_img,load_img\n",
        "from keras.models import Sequential\n",
        "from keras.layers import Dense,Conv2D,MaxPooling2D,Flatten,Dropout\n",
        "from keras.optimizers import Optimizer\n",
        "import keras\n",
        "import matplotlib.pyplot as plt\n",
        "from keras.applications.vgg16 import VGG16\n",
        "from keras.models import Model,Input\n",
        "import keras\n",
        "from keras.applications.vgg16 import preprocess_input\n",
        "from keras.callbacks import ModelCheckpoint, EarlyStopping\n",
        "\n"
      ],
      "execution_count": 4,
      "outputs": [
        {
          "output_type": "stream",
          "text": [
            "Using TensorFlow backend.\n"
          ],
          "name": "stderr"
        }
      ]
    },
    {
      "cell_type": "code",
      "metadata": {
        "id": "iFFrgmTU-6OS",
        "colab_type": "code",
        "colab": {}
      },
      "source": [
        "# load Infected Data and Uninfected Data\n",
        "\n",
        "infected_data=glob.glob('/content/cell_images/Parasitized/*')\n",
        "\n",
        "uninfected_data=glob.glob('/content/cell_images/Uninfected/*')\n"
      ],
      "execution_count": 0,
      "outputs": []
    },
    {
      "cell_type": "code",
      "metadata": {
        "id": "0HHX3ZXu_Sd-",
        "colab_type": "code",
        "outputId": "209540ab-d080-40d2-ccf7-f5421dbc2e0f",
        "colab": {
          "base_uri": "https://localhost:8080/",
          "height": 34
        }
      },
      "source": [
        "len(infected_data),len(uninfected_data)"
      ],
      "execution_count": 6,
      "outputs": [
        {
          "output_type": "execute_result",
          "data": {
            "text/plain": [
              "13780"
            ]
          },
          "metadata": {
            "tags": []
          },
          "execution_count": 6
        }
      ]
    },
    {
      "cell_type": "code",
      "metadata": {
        "id": "I868l7Vi_xqh",
        "colab_type": "code",
        "outputId": "bb136b50-a218-475e-f467-96cedeaea833",
        "colab": {
          "base_uri": "https://localhost:8080/",
          "height": 102
        }
      },
      "source": [
        "infected_data[:5]"
      ],
      "execution_count": 9,
      "outputs": [
        {
          "output_type": "execute_result",
          "data": {
            "text/plain": [
              "['/content/cell_images/Parasitized/C132P93ThinF_IMG_20151004_152642_cell_7.png',\n",
              " '/content/cell_images/Parasitized/C180P141NThinF_IMG_20151201_164714_cell_184.png',\n",
              " '/content/cell_images/Parasitized/C180P141NThinF_IMG_20151201_164714_cell_186.png',\n",
              " '/content/cell_images/Parasitized/C184P145ThinF_IMG_20151203_104334_cell_54.png',\n",
              " '/content/cell_images/Parasitized/C146P107ThinF_IMG_20151018_134554_cell_247.png']"
            ]
          },
          "metadata": {
            "tags": []
          },
          "execution_count": 9
        }
      ]
    },
    {
      "cell_type": "code",
      "metadata": {
        "id": "dISeCY_LAEZG",
        "colab_type": "code",
        "outputId": "aee947be-218e-4be7-976e-c3420e8ccc0b",
        "colab": {
          "base_uri": "https://localhost:8080/",
          "height": 102
        }
      },
      "source": [
        "uninfected_data[:5]"
      ],
      "execution_count": 10,
      "outputs": [
        {
          "output_type": "execute_result",
          "data": {
            "text/plain": [
              "['/content/cell_images/Uninfected/C37BP2_thinF_IMG_20150620_131423a_cell_63.png',\n",
              " '/content/cell_images/Uninfected/C155P116ThinF_IMG_20151115_143125_cell_42.png',\n",
              " '/content/cell_images/Uninfected/C219ThinF_IMG_20151106_150314_cell_169.png',\n",
              " '/content/cell_images/Uninfected/C226ThinF_IMG_20151112_131546_cell_172.png',\n",
              " '/content/cell_images/Uninfected/C160P121ThinF_IMG_20151116_093629_cell_13.png']"
            ]
          },
          "metadata": {
            "tags": []
          },
          "execution_count": 10
        }
      ]
    },
    {
      "cell_type": "code",
      "metadata": {
        "id": "lF7BOAd8B8iY",
        "colab_type": "code",
        "colab": {}
      },
      "source": [
        "# we have Images but how can we predict it without Labels\n",
        "# we should create labels for recognise wheather the cell is infected or not\n",
        "# lets create bianry category (1 for infected and 0 for uninfected)"
      ],
      "execution_count": 0,
      "outputs": []
    },
    {
      "cell_type": "code",
      "metadata": {
        "id": "UhF5JTHGCrbb",
        "colab_type": "code",
        "colab": {}
      },
      "source": [
        "# labels for Infected Cell\n",
        "infected_labels=[]\n",
        "for i in range(len(infected_data)):\n",
        "  i=1\n",
        "  infected_labels.append(i)"
      ],
      "execution_count": 0,
      "outputs": []
    },
    {
      "cell_type": "code",
      "metadata": {
        "id": "Uewcqor0DIJq",
        "colab_type": "code",
        "colab": {}
      },
      "source": [
        "# do the same for uninfected images\n",
        "uninfected_labels=[]\n",
        "for i in range(len(uninfected_data)):\n",
        "  i=0\n",
        "  uninfected_labels.append(i)\n",
        "\n"
      ],
      "execution_count": 0,
      "outputs": []
    },
    {
      "cell_type": "code",
      "metadata": {
        "id": "_C9zESEYDr-e",
        "colab_type": "code",
        "colab": {}
      },
      "source": [
        "import pandas as pd\n",
        "# now we have Images and Labels so lets go for a Concatenating all the data and create a DataFrame \n",
        "df_infected_img=pd.Series(infected_data)\n",
        "df_uninfected_img=pd.Series(uninfected_data)\n",
        "df_infected_labels=pd.Series(infected_labels)\n",
        "df_uninfected_labels=pd.Series(uninfected_labels)\n"
      ],
      "execution_count": 0,
      "outputs": []
    },
    {
      "cell_type": "code",
      "metadata": {
        "id": "7J7T_8EdD9Ew",
        "colab_type": "code",
        "colab": {}
      },
      "source": [
        "df_imgs=pd.concat([df_infected_img,df_uninfected_img])\n",
        "df_labels=pd.concat([df_infected_labels,df_uninfected_labels])\n"
      ],
      "execution_count": 0,
      "outputs": []
    },
    {
      "cell_type": "code",
      "metadata": {
        "id": "vgq-ya39Fs6w",
        "colab_type": "code",
        "colab": {}
      },
      "source": [
        " df_dataset=pd.concat([df_imgs,df_labels],axis=1)"
      ],
      "execution_count": 0,
      "outputs": []
    },
    {
      "cell_type": "code",
      "metadata": {
        "id": "gxt5f9U0FyTT",
        "colab_type": "code",
        "colab": {}
      },
      "source": [
        "df_dataset.columns=['Images','labels']"
      ],
      "execution_count": 0,
      "outputs": []
    },
    {
      "cell_type": "code",
      "metadata": {
        "id": "m4nacjaYGY-_",
        "colab_type": "code",
        "colab": {}
      },
      "source": [
        "df_dataset.reset_index(drop=True,inplace=True) # Reset index "
      ],
      "execution_count": 0,
      "outputs": []
    },
    {
      "cell_type": "code",
      "metadata": {
        "id": "bOyPrBNmbKga",
        "colab_type": "code",
        "outputId": "163d38c6-7c05-4468-9f00-b33a65001af2",
        "colab": {
          "base_uri": "https://localhost:8080/",
          "height": 85
        }
      },
      "source": [
        "#this are the files which was giving error while loading Images so we should Drop it. \n",
        "print(df_dataset[df_dataset['Images']=='/content/cell_images/Uninfected/Thumbs.db'])\n",
        "print(df_dataset[df_dataset['Images']=='/content/cell_images/Parasitized/Thumbs.db'])"
      ],
      "execution_count": 32,
      "outputs": [
        {
          "output_type": "stream",
          "text": [
            "                                          Images  labels\n",
            "20558  /content/cell_images/Uninfected/Thumbs.db       0\n",
            "                                          Images  labels\n",
            "6773  /content/cell_images/Parasitized/Thumbs.db       1\n"
          ],
          "name": "stdout"
        }
      ]
    },
    {
      "cell_type": "code",
      "metadata": {
        "id": "DDEIEfctr81u",
        "colab_type": "code",
        "colab": {}
      },
      "source": [
        "df_dataset.drop(20558,axis=0,inplace=True)\n",
        "df_dataset.drop(6773,axis=0,inplace=True)\n",
        "df_dataset.reset_index(drop=True,inplace=True)"
      ],
      "execution_count": 0,
      "outputs": []
    },
    {
      "cell_type": "code",
      "metadata": {
        "id": "cGdjT7xoGpPd",
        "colab_type": "code",
        "outputId": "e9c34729-a7ef-4caf-ef03-df8e14670cf5",
        "colab": {
          "base_uri": "https://localhost:8080/",
          "height": 141
        }
      },
      "source": [
        "# infected cell looks like this Image\n",
        "load_img(df_dataset['Images'][137]) "
      ],
      "execution_count": 34,
      "outputs": [
        {
          "output_type": "execute_result",
          "data": {
            "image/png": "[encoded data removed]",
            "text/plain": [
              "<PIL.PngImagePlugin.PngImageFile image mode=RGB size=133x124 at 0x7F68348E0208>"
            ]
          },
          "metadata": {
            "tags": []
          },
          "execution_count": 34
        }
      ]
    },
    {
      "cell_type": "code",
      "metadata": {
        "id": "w-4G9ZR8k9qq",
        "colab_type": "code",
        "colab": {
          "base_uri": "https://localhost:8080/",
          "height": 141
        },
        "outputId": "95a358c1-5ddf-4822-c078-526503bef947"
      },
      "source": [
        " # uninfected cell looks like this Image\n",
        " load_img(df_dataset['Images'][3000])"
      ],
      "execution_count": 57,
      "outputs": [
        {
          "output_type": "execute_result",
          "data": {
            "image/png": "[encoded data removed]",
            "text/plain": [
              "<PIL.PngImagePlugin.PngImageFile image mode=RGB size=130x124 at 0x7F67D96FAC88>"
            ]
          },
          "metadata": {
            "tags": []
          },
          "execution_count": 57
        }
      ]
    },
    {
      "cell_type": "code",
      "metadata": {
        "id": "gBkmW9PRKqvc",
        "colab_type": "code",
        "colab": {}
      },
      "source": [
        "X=df_dataset.drop('labels',axis=1)\n",
        "y=df_dataset['labels']"
      ],
      "execution_count": 0,
      "outputs": []
    },
    {
      "cell_type": "code",
      "metadata": {
        "id": "z7W3zgDkdWsM",
        "colab_type": "code",
        "colab": {}
      },
      "source": [
        "# Divide dataset into training and Validation\n",
        "from sklearn.model_selection import train_test_split\n",
        "X_train,X_test,y_train,y_test=train_test_split(X,y,test_size=0.2,random_state=2)"
      ],
      "execution_count": 0,
      "outputs": []
    },
    {
      "cell_type": "code",
      "metadata": {
        "id": "5HQztGxdLJ7N",
        "colab_type": "code",
        "outputId": "3792b46b-78a9-427c-f244-5eb4ce792211",
        "colab": {
          "base_uri": "https://localhost:8080/",
          "height": 34
        }
      },
      "source": [
        "X_train.shape,y_train.shape,X_test.shape,y_test.shape"
      ],
      "execution_count": 38,
      "outputs": [
        {
          "output_type": "execute_result",
          "data": {
            "text/plain": [
              "((22046, 1), (22046,), (5512, 1), (5512,))"
            ]
          },
          "metadata": {
            "tags": []
          },
          "execution_count": 38
        }
      ]
    },
    {
      "cell_type": "code",
      "metadata": {
        "id": "mP5SjkRRlozm",
        "colab_type": "code",
        "colab": {
          "base_uri": "https://localhost:8080/",
          "height": 350
        },
        "outputId": "c76b08a4-9d6f-461d-fb32-a04ec17eb3b3"
      },
      "source": [
        "import seaborn as sns\n",
        "# checking for Balance Dataset\n",
        "sns.countplot(y_train)"
      ],
      "execution_count": 58,
      "outputs": [
        {
          "output_type": "stream",
          "text": [
            "/usr/local/lib/python3.6/dist-packages/statsmodels/tools/_testing.py:19: FutureWarning: pandas.util.testing is deprecated. Use the functions in the public API at pandas.testing instead.\n",
            "  import pandas.util.testing as tm\n"
          ],
          "name": "stderr"
        },
        {
          "output_type": "execute_result",
          "data": {
            "text/plain": [
              "<matplotlib.axes._subplots.AxesSubplot at 0x7f67d9f5ebe0>"
            ]
          },
          "metadata": {
            "tags": []
          },
          "execution_count": 58
        },
        {
          "output_type": "display_data",
          "data": {
            "image/png": "[encoded data removed]",
            "text/plain": [
              "<Figure size 432x288 with 1 Axes>"
            ]
          },
          "metadata": {
            "tags": [],
            "needs_background": "light"
          }
        }
      ]
    },
    {
      "cell_type": "code",
      "metadata": {
        "id": "_2NsvHFUl2q9",
        "colab_type": "code",
        "colab": {
          "base_uri": "https://localhost:8080/",
          "height": 296
        },
        "outputId": "dfe4f39b-eb58-41a8-af7e-793748a34521"
      },
      "source": [
        "sns.countplot(y_test)"
      ],
      "execution_count": 59,
      "outputs": [
        {
          "output_type": "execute_result",
          "data": {
            "text/plain": [
              "<matplotlib.axes._subplots.AxesSubplot at 0x7f67d9751ac8>"
            ]
          },
          "metadata": {
            "tags": []
          },
          "execution_count": 59
        },
        {
          "output_type": "display_data",
          "data": {
            "image/png": "[encoded data removed]",
            "text/plain": [
              "<Figure size 432x288 with 1 Axes>"
            ]
          },
          "metadata": {
            "tags": [],
            "needs_background": "light"
          }
        }
      ]
    },
    {
      "cell_type": "code",
      "metadata": {
        "id": "Wiu9kLSQOwZW",
        "colab_type": "code",
        "colab": {}
      },
      "source": [
        "# load image and covert into array\n",
        "train_imgs=[img_to_array(load_img(img,target_size=(150,150))) for img in X_train['Images']]\n",
        "train_imgs=np.array(train_imgs)                         "
      ],
      "execution_count": 0,
      "outputs": []
    },
    {
      "cell_type": "code",
      "metadata": {
        "id": "kGPcIVIxPD_J",
        "colab_type": "code",
        "colab": {}
      },
      "source": [
        "test_imgs=[img_to_array(load_img(img,target_size=(150,150))) for img in X_test['Images']]\n",
        "test_imgs=np.array(test_imgs)"
      ],
      "execution_count": 0,
      "outputs": []
    },
    {
      "cell_type": "markdown",
      "metadata": {
        "id": "VQI7XCnbmer9",
        "colab_type": "text"
      },
      "source": [
        " Basic CNN model with Data Augmentation"
      ]
    },
    {
      "cell_type": "code",
      "metadata": {
        "id": "-sJH9Qg07KbP",
        "colab_type": "code",
        "colab": {}
      },
      "source": [
        "\n",
        "train_datagen=ImageDataGenerator(rescale=1./255.0,horizontal_flip=True,rotation_range=50,fill_mode='nearest',\n",
        "                                 zoom_range=0.3)\n",
        "test_datagen=ImageDataGenerator(rescale=1./255.0)"
      ],
      "execution_count": 0,
      "outputs": []
    },
    {
      "cell_type": "code",
      "metadata": {
        "id": "hJSdMRgB_OCG",
        "colab_type": "code",
        "outputId": "247b3be0-3263-447b-e239-a1f81b39270c",
        "colab": {
          "base_uri": "https://localhost:8080/",
          "height": 1000
        }
      },
      "source": [
        "train_generator=train_datagen.flow(train_imgs,y_train,batch_size=30)\n",
        "test_generator=test_datagen.flow(test_imgs,y_test,batch_size=20)\n",
        "\n",
        "\n",
        "input_shape=(150,150,3)\n",
        "model=Sequential()\n",
        "model.add(Conv2D(64,kernel_size=(3,3),input_shape=input_shape,activation='relu'))\n",
        "model.add(MaxPooling2D(pool_size=(2,2)))\n",
        "\n",
        "model.add(Conv2D(128,kernel_size=(3,3),activation='relu'))\n",
        "model.add(MaxPooling2D(pool_size=(2,2)))\n",
        "\n",
        "model.add(Conv2D(228,kernel_size=(3,3),activation='relu'))\n",
        "model.add(MaxPooling2D(pool_size=(2,2)))\n",
        "\n",
        "model.add(Flatten())\n",
        "model.add(Dense(512,activation='relu'))\n",
        "model.add(Dense(128,activation='relu'))\n",
        "\n",
        "model.add(Dense(1,activation='sigmoid'))\n",
        "\n",
        "model.compile(optimizer=keras.optimizers.RMSprop(),loss='binary_crossentropy',metrics=['accuracy'])\n",
        "\n",
        "history=model.fit_generator(train_generator,validation_data=test_generator,epochs=50,steps_per_epoch=50)"
      ],
      "execution_count": 43,
      "outputs": [
        {
          "output_type": "stream",
          "text": [
            "Epoch 1/50\n",
            "50/50 [==============================] - 22s 439ms/step - loss: 1.3301 - accuracy: 0.5107 - val_loss: 0.6898 - val_accuracy: 0.5778\n",
            "Epoch 2/50\n",
            "50/50 [==============================] - 14s 286ms/step - loss: 0.7021 - accuracy: 0.5207 - val_loss: 0.6852 - val_accuracy: 0.6421\n",
            "Epoch 3/50\n",
            "50/50 [==============================] - 14s 289ms/step - loss: 0.6916 - accuracy: 0.5827 - val_loss: 0.5210 - val_accuracy: 0.5374\n",
            "Epoch 4/50\n",
            "50/50 [==============================] - 14s 288ms/step - loss: 0.7326 - accuracy: 0.6647 - val_loss: 0.4555 - val_accuracy: 0.7442\n",
            "Epoch 5/50\n",
            "50/50 [==============================] - 14s 288ms/step - loss: 0.4411 - accuracy: 0.8407 - val_loss: 0.7763 - val_accuracy: 0.7859\n",
            "Epoch 6/50\n",
            "50/50 [==============================] - 14s 289ms/step - loss: 0.3941 - accuracy: 0.8647 - val_loss: 0.0692 - val_accuracy: 0.9265\n",
            "Epoch 7/50\n",
            "50/50 [==============================] - 14s 286ms/step - loss: 0.3368 - accuracy: 0.8840 - val_loss: 0.2906 - val_accuracy: 0.9296\n",
            "Epoch 8/50\n",
            "50/50 [==============================] - 15s 292ms/step - loss: 0.3004 - accuracy: 0.9091 - val_loss: 0.1761 - val_accuracy: 0.9260\n",
            "Epoch 9/50\n",
            "50/50 [==============================] - 14s 286ms/step - loss: 0.2867 - accuracy: 0.9080 - val_loss: 0.1093 - val_accuracy: 0.8374\n",
            "Epoch 10/50\n",
            "50/50 [==============================] - 14s 287ms/step - loss: 0.2799 - accuracy: 0.9193 - val_loss: 0.0729 - val_accuracy: 0.9060\n",
            "Epoch 11/50\n",
            "50/50 [==============================] - 14s 286ms/step - loss: 0.3097 - accuracy: 0.8940 - val_loss: 0.2823 - val_accuracy: 0.9396\n",
            "Epoch 12/50\n",
            "50/50 [==============================] - 14s 288ms/step - loss: 0.2442 - accuracy: 0.9187 - val_loss: 0.3666 - val_accuracy: 0.9331\n",
            "Epoch 13/50\n",
            "50/50 [==============================] - 14s 289ms/step - loss: 0.3190 - accuracy: 0.9020 - val_loss: 0.0369 - val_accuracy: 0.9376\n",
            "Epoch 14/50\n",
            "50/50 [==============================] - 14s 287ms/step - loss: 0.2605 - accuracy: 0.9127 - val_loss: 0.2105 - val_accuracy: 0.9472\n",
            "Epoch 15/50\n",
            "50/50 [==============================] - 14s 288ms/step - loss: 0.2619 - accuracy: 0.9173 - val_loss: 0.2323 - val_accuracy: 0.9432\n",
            "Epoch 16/50\n",
            "50/50 [==============================] - 14s 285ms/step - loss: 0.3625 - accuracy: 0.9000 - val_loss: 0.0732 - val_accuracy: 0.9423\n",
            "Epoch 17/50\n",
            "50/50 [==============================] - 14s 284ms/step - loss: 0.2640 - accuracy: 0.9218 - val_loss: 0.1712 - val_accuracy: 0.9463\n",
            "Epoch 18/50\n",
            "50/50 [==============================] - 14s 286ms/step - loss: 0.2256 - accuracy: 0.9267 - val_loss: 0.0152 - val_accuracy: 0.9381\n",
            "Epoch 19/50\n",
            "50/50 [==============================] - 14s 287ms/step - loss: 0.3087 - accuracy: 0.9013 - val_loss: 0.1151 - val_accuracy: 0.9478\n",
            "Epoch 20/50\n",
            "50/50 [==============================] - 14s 287ms/step - loss: 0.2426 - accuracy: 0.9233 - val_loss: 0.3015 - val_accuracy: 0.9285\n",
            "Epoch 21/50\n",
            "50/50 [==============================] - 14s 288ms/step - loss: 0.2302 - accuracy: 0.9347 - val_loss: 1.0660 - val_accuracy: 0.6130\n",
            "Epoch 22/50\n",
            "50/50 [==============================] - 14s 284ms/step - loss: 0.2833 - accuracy: 0.9007 - val_loss: 0.1119 - val_accuracy: 0.9380\n",
            "Epoch 23/50\n",
            "50/50 [==============================] - 14s 288ms/step - loss: 0.2029 - accuracy: 0.9293 - val_loss: 0.0401 - val_accuracy: 0.9550\n",
            "Epoch 24/50\n",
            "50/50 [==============================] - 14s 287ms/step - loss: 0.2713 - accuracy: 0.9260 - val_loss: 0.2375 - val_accuracy: 0.9534\n",
            "Epoch 25/50\n",
            "50/50 [==============================] - 14s 289ms/step - loss: 0.2345 - accuracy: 0.9213 - val_loss: 0.0084 - val_accuracy: 0.9479\n",
            "Epoch 26/50\n",
            "50/50 [==============================] - 14s 286ms/step - loss: 0.2206 - accuracy: 0.9407 - val_loss: 0.0858 - val_accuracy: 0.9472\n",
            "Epoch 27/50\n",
            "50/50 [==============================] - 14s 288ms/step - loss: 0.2050 - accuracy: 0.9360 - val_loss: 1.3515 - val_accuracy: 0.6161\n",
            "Epoch 28/50\n",
            "50/50 [==============================] - 14s 286ms/step - loss: 0.2453 - accuracy: 0.9347 - val_loss: 0.5405 - val_accuracy: 0.9238\n",
            "Epoch 29/50\n",
            "50/50 [==============================] - 14s 284ms/step - loss: 0.2129 - accuracy: 0.9360 - val_loss: 0.0372 - val_accuracy: 0.9497\n",
            "Epoch 30/50\n",
            "50/50 [==============================] - 15s 300ms/step - loss: 0.2470 - accuracy: 0.9267 - val_loss: 0.0200 - val_accuracy: 0.9570\n",
            "Epoch 31/50\n",
            "50/50 [==============================] - 14s 285ms/step - loss: 0.2164 - accuracy: 0.9380 - val_loss: 0.5513 - val_accuracy: 0.9441\n",
            "Epoch 32/50\n",
            "50/50 [==============================] - 14s 285ms/step - loss: 0.2083 - accuracy: 0.9407 - val_loss: 0.0405 - val_accuracy: 0.9507\n",
            "Epoch 33/50\n",
            "50/50 [==============================] - 14s 286ms/step - loss: 0.2080 - accuracy: 0.9267 - val_loss: 0.3968 - val_accuracy: 0.9539\n",
            "Epoch 34/50\n",
            "50/50 [==============================] - 14s 286ms/step - loss: 0.2181 - accuracy: 0.9318 - val_loss: 0.0675 - val_accuracy: 0.9452\n",
            "Epoch 35/50\n",
            "50/50 [==============================] - 14s 284ms/step - loss: 0.2023 - accuracy: 0.9347 - val_loss: 0.0126 - val_accuracy: 0.9545\n",
            "Epoch 36/50\n",
            "50/50 [==============================] - 14s 285ms/step - loss: 0.2371 - accuracy: 0.9340 - val_loss: 0.0040 - val_accuracy: 0.9503\n",
            "Epoch 37/50\n",
            "50/50 [==============================] - 14s 286ms/step - loss: 0.2535 - accuracy: 0.9153 - val_loss: 0.6646 - val_accuracy: 0.8930\n",
            "Epoch 38/50\n",
            "50/50 [==============================] - 14s 285ms/step - loss: 0.1987 - accuracy: 0.9407 - val_loss: 0.1541 - val_accuracy: 0.9505\n",
            "Epoch 39/50\n",
            "50/50 [==============================] - 14s 285ms/step - loss: 0.2298 - accuracy: 0.9400 - val_loss: 0.1278 - val_accuracy: 0.9523\n",
            "Epoch 40/50\n",
            "50/50 [==============================] - 14s 287ms/step - loss: 0.2264 - accuracy: 0.9280 - val_loss: 0.0073 - val_accuracy: 0.9488\n",
            "Epoch 41/50\n",
            "50/50 [==============================] - 14s 286ms/step - loss: 0.2337 - accuracy: 0.9380 - val_loss: 0.6844 - val_accuracy: 0.9541\n",
            "Epoch 42/50\n",
            "50/50 [==============================] - 14s 285ms/step - loss: 0.2863 - accuracy: 0.9127 - val_loss: 0.0519 - val_accuracy: 0.9438\n",
            "Epoch 43/50\n",
            "50/50 [==============================] - 14s 286ms/step - loss: 0.2190 - accuracy: 0.9407 - val_loss: 0.0769 - val_accuracy: 0.9557\n",
            "Epoch 44/50\n",
            "50/50 [==============================] - 14s 287ms/step - loss: 0.1881 - accuracy: 0.9440 - val_loss: 0.1328 - val_accuracy: 0.9360\n",
            "Epoch 45/50\n",
            "50/50 [==============================] - 16s 312ms/step - loss: 0.2239 - accuracy: 0.9439 - val_loss: 0.0722 - val_accuracy: 0.9550\n",
            "Epoch 46/50\n",
            "50/50 [==============================] - 14s 288ms/step - loss: 0.1855 - accuracy: 0.9453 - val_loss: 0.0824 - val_accuracy: 0.9445\n",
            "Epoch 47/50\n",
            "50/50 [==============================] - 14s 288ms/step - loss: 0.2128 - accuracy: 0.9273 - val_loss: 0.0268 - val_accuracy: 0.9403\n",
            "Epoch 48/50\n",
            "50/50 [==============================] - 14s 287ms/step - loss: 0.2260 - accuracy: 0.9373 - val_loss: 0.1186 - val_accuracy: 0.9526\n",
            "Epoch 49/50\n",
            "50/50 [==============================] - 14s 286ms/step - loss: 0.2150 - accuracy: 0.9353 - val_loss: 0.4844 - val_accuracy: 0.9501\n",
            "Epoch 50/50\n",
            "50/50 [==============================] - 14s 285ms/step - loss: 0.2238 - accuracy: 0.9313 - val_loss: 0.1611 - val_accuracy: 0.9530\n"
          ],
          "name": "stdout"
        }
      ]
    },
    {
      "cell_type": "code",
      "metadata": {
        "id": "rgZ4FFoI_lP0",
        "colab_type": "code",
        "outputId": "b4edc61d-5d68-4143-82e5-918d6885b4e8",
        "colab": {
          "base_uri": "https://localhost:8080/",
          "height": 573
        }
      },
      "source": [
        "\n",
        "plt.plot(history.history['accuracy'])\n",
        "plt.plot(history.history['val_accuracy'])\n",
        "plt.legend(['Training','Testing'],loc='best')\n",
        "plt.xlabel('Epochs')\n",
        "plt.ylabel('Accuracy')\n",
        "plt.title('Epoch Vs Accuracy')\n",
        "plt.show()\n",
        "\n",
        "\n",
        "plt.plot(history.history['loss'])\n",
        "plt.plot(history.history['val_loss'])\n",
        "plt.legend(['Training','Testing'],loc='best')\n",
        "plt.xlabel('Epochs')\n",
        "plt.ylabel('Loss')\n",
        "plt.title('Epochs Vs Loss')\n",
        "plt.show()"
      ],
      "execution_count": 44,
      "outputs": [
        {
          "output_type": "display_data",
          "data": {
            "image/png": "[encoded data removed]",
            "text/plain": [
              "<Figure size 432x288 with 1 Axes>"
            ]
          },
          "metadata": {
            "tags": [],
            "needs_background": "light"
          }
        },
        {
          "output_type": "display_data",
          "data": {
            "image/png": "[encoded data removed]",
            "text/plain": [
              "<Figure size 432x288 with 1 Axes>"
            ]
          },
          "metadata": {
            "tags": [],
            "needs_background": "light"
          }
        }
      ]
    },
    {
      "cell_type": "code",
      "metadata": {
        "id": "Qgnk8HzUMKMS",
        "colab_type": "code",
        "colab": {}
      },
      "source": [
        "# we can see there is spiked in validation Data because of overfitting lets apply Dropout Regularization"
      ],
      "execution_count": 0,
      "outputs": []
    },
    {
      "cell_type": "code",
      "metadata": {
        "id": "SrG2M3HdM4BH",
        "colab_type": "code",
        "outputId": "f8777c4c-218f-4744-9548-1ee8ba3c346c",
        "colab": {
          "base_uri": "https://localhost:8080/",
          "height": 1000
        }
      },
      "source": [
        "train_generator=train_datagen.flow(train_imgs,y_train,batch_size=30)\n",
        "test_generator=test_datagen.flow(test_imgs,y_test,batch_size=20)\n",
        "\n",
        "\n",
        "input_shape=(150,150,3)\n",
        "model=Sequential()\n",
        "model.add(Conv2D(64,kernel_size=(3,3),input_shape=input_shape,activation='relu'))\n",
        "model.add(MaxPooling2D(pool_size=(2,2)))\n",
        "\n",
        "model.add(Conv2D(128,kernel_size=(3,3),activation='relu'))\n",
        "model.add(MaxPooling2D(pool_size=(2,2)))\n",
        "\n",
        "model.add(Conv2D(228,kernel_size=(3,3),activation='relu'))\n",
        "model.add(MaxPooling2D(pool_size=(2,2)))\n",
        "\n",
        "model.add(Flatten())\n",
        "model.add(Dense(512,activation='relu'))\n",
        "model.add(Dropout(0.5))\n",
        "model.add(Dense(128,activation='relu'))\n",
        "model.add(Dropout(0.4))\n",
        "\n",
        "model.add(Dense(1,activation='sigmoid'))\n",
        "\n",
        "model.compile(optimizer=keras.optimizers.RMSprop(),loss='binary_crossentropy',metrics=['accuracy'])\n",
        "\n",
        "history=model.fit_generator(train_generator,validation_data=test_generator,epochs=30,steps_per_epoch=50)"
      ],
      "execution_count": 46,
      "outputs": [
        {
          "output_type": "stream",
          "text": [
            "Epoch 1/30\n",
            "50/50 [==============================] - 16s 320ms/step - loss: 0.8903 - accuracy: 0.5107 - val_loss: 0.6928 - val_accuracy: 0.4953\n",
            "Epoch 2/30\n",
            "50/50 [==============================] - 14s 287ms/step - loss: 0.7098 - accuracy: 0.5147 - val_loss: 0.6917 - val_accuracy: 0.5045\n",
            "Epoch 3/30\n",
            "50/50 [==============================] - 14s 287ms/step - loss: 0.7010 - accuracy: 0.5107 - val_loss: 0.6912 - val_accuracy: 0.5903\n",
            "Epoch 4/30\n",
            "50/50 [==============================] - 14s 289ms/step - loss: 0.7132 - accuracy: 0.5867 - val_loss: 0.7090 - val_accuracy: 0.5149\n",
            "Epoch 5/30\n",
            "50/50 [==============================] - 14s 289ms/step - loss: 0.6314 - accuracy: 0.7080 - val_loss: 0.5582 - val_accuracy: 0.8344\n",
            "Epoch 6/30\n",
            "50/50 [==============================] - 14s 288ms/step - loss: 0.4212 - accuracy: 0.8596 - val_loss: 0.4151 - val_accuracy: 0.8393\n",
            "Epoch 7/30\n",
            "50/50 [==============================] - 14s 286ms/step - loss: 0.3722 - accuracy: 0.8860 - val_loss: 0.0600 - val_accuracy: 0.9038\n",
            "Epoch 8/30\n",
            "50/50 [==============================] - 14s 287ms/step - loss: 0.4204 - accuracy: 0.8720 - val_loss: 0.1612 - val_accuracy: 0.9285\n",
            "Epoch 9/30\n",
            "50/50 [==============================] - 14s 288ms/step - loss: 0.5519 - accuracy: 0.8807 - val_loss: 0.2584 - val_accuracy: 0.9029\n",
            "Epoch 10/30\n",
            "50/50 [==============================] - 14s 289ms/step - loss: 0.3239 - accuracy: 0.8913 - val_loss: 0.3299 - val_accuracy: 0.9218\n",
            "Epoch 11/30\n",
            "50/50 [==============================] - 14s 288ms/step - loss: 0.2590 - accuracy: 0.9147 - val_loss: 0.7179 - val_accuracy: 0.9370\n",
            "Epoch 12/30\n",
            "50/50 [==============================] - 14s 285ms/step - loss: 0.2666 - accuracy: 0.9180 - val_loss: 0.1791 - val_accuracy: 0.9430\n",
            "Epoch 13/30\n",
            "50/50 [==============================] - 14s 286ms/step - loss: 0.2916 - accuracy: 0.9047 - val_loss: 0.0469 - val_accuracy: 0.9338\n",
            "Epoch 14/30\n",
            "50/50 [==============================] - 14s 286ms/step - loss: 0.2702 - accuracy: 0.9173 - val_loss: 0.0197 - val_accuracy: 0.9331\n",
            "Epoch 15/30\n",
            "50/50 [==============================] - 14s 288ms/step - loss: 0.2544 - accuracy: 0.9213 - val_loss: 0.4724 - val_accuracy: 0.9387\n",
            "Epoch 16/30\n",
            "50/50 [==============================] - 14s 288ms/step - loss: 0.2352 - accuracy: 0.9233 - val_loss: 0.0107 - val_accuracy: 0.9537\n",
            "Epoch 17/30\n",
            "50/50 [==============================] - 14s 286ms/step - loss: 0.2550 - accuracy: 0.9253 - val_loss: 0.3278 - val_accuracy: 0.9000\n",
            "Epoch 18/30\n",
            "50/50 [==============================] - 14s 290ms/step - loss: 0.2096 - accuracy: 0.9340 - val_loss: 0.2236 - val_accuracy: 0.9352\n",
            "Epoch 19/30\n",
            "50/50 [==============================] - 14s 289ms/step - loss: 0.2473 - accuracy: 0.9267 - val_loss: 0.0286 - val_accuracy: 0.9519\n",
            "Epoch 20/30\n",
            "50/50 [==============================] - 14s 288ms/step - loss: 0.2478 - accuracy: 0.9247 - val_loss: 0.0195 - val_accuracy: 0.9521\n",
            "Epoch 21/30\n",
            "50/50 [==============================] - 14s 288ms/step - loss: 0.2269 - accuracy: 0.9353 - val_loss: 0.0190 - val_accuracy: 0.9519\n",
            "Epoch 22/30\n",
            "50/50 [==============================] - 14s 287ms/step - loss: 0.3282 - accuracy: 0.9053 - val_loss: 0.0446 - val_accuracy: 0.9390\n",
            "Epoch 23/30\n",
            "50/50 [==============================] - 14s 288ms/step - loss: 0.2247 - accuracy: 0.9293 - val_loss: 0.4195 - val_accuracy: 0.9552\n",
            "Epoch 24/30\n",
            "50/50 [==============================] - 14s 285ms/step - loss: 0.2321 - accuracy: 0.9325 - val_loss: 0.0202 - val_accuracy: 0.9487\n",
            "Epoch 25/30\n",
            "50/50 [==============================] - 14s 288ms/step - loss: 0.2382 - accuracy: 0.9233 - val_loss: 0.0335 - val_accuracy: 0.9501\n",
            "Epoch 26/30\n",
            "50/50 [==============================] - 14s 286ms/step - loss: 0.2632 - accuracy: 0.9180 - val_loss: 0.4764 - val_accuracy: 0.5459\n",
            "Epoch 27/30\n",
            "50/50 [==============================] - 14s 287ms/step - loss: 0.2605 - accuracy: 0.9173 - val_loss: 0.3588 - val_accuracy: 0.9556\n",
            "Epoch 28/30\n",
            "50/50 [==============================] - 14s 286ms/step - loss: 0.2516 - accuracy: 0.9180 - val_loss: 0.0318 - val_accuracy: 0.9526\n",
            "Epoch 29/30\n",
            "50/50 [==============================] - 15s 290ms/step - loss: 0.2313 - accuracy: 0.9293 - val_loss: 0.0174 - val_accuracy: 0.9418\n",
            "Epoch 30/30\n",
            "50/50 [==============================] - 15s 302ms/step - loss: 0.2630 - accuracy: 0.9160 - val_loss: 0.0283 - val_accuracy: 0.8984\n"
          ],
          "name": "stdout"
        }
      ]
    },
    {
      "cell_type": "code",
      "metadata": {
        "id": "2XvpnSADNIDn",
        "colab_type": "code",
        "outputId": "e793ed86-045b-44d0-b73e-0e03fb05e835",
        "colab": {
          "base_uri": "https://localhost:8080/",
          "height": 573
        }
      },
      "source": [
        "\n",
        "plt.plot(history.history['accuracy'])\n",
        "plt.plot(history.history['val_accuracy'])\n",
        "plt.legend(['Training','Testing'],loc='best')\n",
        "plt.xlabel('Epochs')\n",
        "plt.ylabel('Accuracy')\n",
        "plt.title('Epoch Vs Accuracy')\n",
        "plt.show()\n",
        "\n",
        "\n",
        "plt.plot(history.history['loss'])\n",
        "plt.plot(history.history['val_loss'])\n",
        "plt.legend(['Training','Testing'],loc='best')\n",
        "plt.xlabel('Epochs')\n",
        "plt.ylabel('Loss')\n",
        "plt.title('Epochs Vs Loss')\n",
        "plt.show()"
      ],
      "execution_count": 47,
      "outputs": [
        {
          "output_type": "display_data",
          "data": {
            "image/png": "[encoded data removed]",
            "text/plain": [
              "<Figure size 432x288 with 1 Axes>"
            ]
          },
          "metadata": {
            "tags": [],
            "needs_background": "light"
          }
        },
        {
          "output_type": "display_data",
          "data": {
            "image/png": "[encoded data removed]",
            "text/plain": [
              "<Figure size 432x288 with 1 Axes>"
            ]
          },
          "metadata": {
            "tags": [],
            "needs_background": "light"
          }
        }
      ]
    },
    {
      "cell_type": "code",
      "metadata": {
        "id": "x3Eeeh-YnTlX",
        "colab_type": "code",
        "colab": {}
      },
      "source": [
        "# Regularisation giving me the good accuracy and almost removed overfitting\n",
        "# but i am not satisfied with this result so i would like to go for Transfer Learning"
      ],
      "execution_count": 0,
      "outputs": []
    },
    {
      "cell_type": "code",
      "metadata": {
        "id": "1X3UnQSzW_rI",
        "colab_type": "code",
        "colab": {}
      },
      "source": [
        "# I am taking VGG16 model ( having 16 hidden layers)\n"
      ],
      "execution_count": 0,
      "outputs": []
    },
    {
      "cell_type": "code",
      "metadata": {
        "id": "QUHHnG28bJxu",
        "colab_type": "code",
        "colab": {}
      },
      "source": [
        "# resize the pixel in between 0 to 255\n",
        "train_img_scaled=train_imgs/255.0\n",
        "test_img_scaled=test_imgs/255.0"
      ],
      "execution_count": 0,
      "outputs": []
    },
    {
      "cell_type": "code",
      "metadata": {
        "id": "hGU61q4UX_z-",
        "colab_type": "code",
        "colab": {
          "base_uri": "https://localhost:8080/",
          "height": 71
        },
        "outputId": "933ba0ea-7ae6-4db7-c4e5-70156782bb73"
      },
      "source": [
        "input_shape=(150,150,3)\n",
        "vgg=VGG16(include_top=False,weights='imagenet',input_shape=input_shape)\n",
        "output=vgg.layers[-1].output\n",
        "output=keras.layers.Flatten()(output)\n",
        "vgg_model=Model(vgg.input,output)\n",
        "\n",
        "vgg_model.trainalble=False\n",
        "for layer in vgg_model.layers[:5]:\n",
        "  layer.trainable=False\n",
        "\n",
        "def get_features(model,input_imgs):\n",
        "  features=model.predict(input_imgs)\n",
        "  return features\n",
        "\n",
        "train_features=get_features(vgg_model,train_img_scaled)\n",
        "test_features=get_features(vgg_model,test_img_scaled)\n"
      ],
      "execution_count": 50,
      "outputs": [
        {
          "output_type": "stream",
          "text": [
            "Downloading data from https://github.com/fchollet/deep-learning-models/releases/download/v0.1/vgg16_weights_tf_dim_ordering_tf_kernels_notop.h5\n",
            "58892288/58889256 [==============================] - 6s 0us/step\n"
          ],
          "name": "stdout"
        }
      ]
    },
    {
      "cell_type": "code",
      "metadata": {
        "id": "6GcfziIhtS55",
        "colab_type": "code",
        "outputId": "02674bbb-bc30-4d7d-f09c-ec68b0331da7",
        "colab": {
          "base_uri": "https://localhost:8080/",
          "height": 833
        }
      },
      "source": [
        "vgg_model.summary()"
      ],
      "execution_count": 51,
      "outputs": [
        {
          "output_type": "stream",
          "text": [
            "Model: \"model_1\"\n",
            "_________________________________________________________________\n",
            "Layer (type)                 Output Shape              Param #   \n",
            "=================================================================\n",
            "input_1 (InputLayer)         (None, 150, 150, 3)       0         \n",
            "_________________________________________________________________\n",
            "block1_conv1 (Conv2D)        (None, 150, 150, 64)      1792      \n",
            "_________________________________________________________________\n",
            "block1_conv2 (Conv2D)        (None, 150, 150, 64)      36928     \n",
            "_________________________________________________________________\n",
            "block1_pool (MaxPooling2D)   (None, 75, 75, 64)        0         \n",
            "_________________________________________________________________\n",
            "block2_conv1 (Conv2D)        (None, 75, 75, 128)       73856     \n",
            "_________________________________________________________________\n",
            "block2_conv2 (Conv2D)        (None, 75, 75, 128)       147584    \n",
            "_________________________________________________________________\n",
            "block2_pool (MaxPooling2D)   (None, 37, 37, 128)       0         \n",
            "_________________________________________________________________\n",
            "block3_conv1 (Conv2D)        (None, 37, 37, 256)       295168    \n",
            "_________________________________________________________________\n",
            "block3_conv2 (Conv2D)        (None, 37, 37, 256)       590080    \n",
            "_________________________________________________________________\n",
            "block3_conv3 (Conv2D)        (None, 37, 37, 256)       590080    \n",
            "_________________________________________________________________\n",
            "block3_pool (MaxPooling2D)   (None, 18, 18, 256)       0         \n",
            "_________________________________________________________________\n",
            "block4_conv1 (Conv2D)        (None, 18, 18, 512)       1180160   \n",
            "_________________________________________________________________\n",
            "block4_conv2 (Conv2D)        (None, 18, 18, 512)       2359808   \n",
            "_________________________________________________________________\n",
            "block4_conv3 (Conv2D)        (None, 18, 18, 512)       2359808   \n",
            "_________________________________________________________________\n",
            "block4_pool (MaxPooling2D)   (None, 9, 9, 512)         0         \n",
            "_________________________________________________________________\n",
            "block5_conv1 (Conv2D)        (None, 9, 9, 512)         2359808   \n",
            "_________________________________________________________________\n",
            "block5_conv2 (Conv2D)        (None, 9, 9, 512)         2359808   \n",
            "_________________________________________________________________\n",
            "block5_conv3 (Conv2D)        (None, 9, 9, 512)         2359808   \n",
            "_________________________________________________________________\n",
            "block5_pool (MaxPooling2D)   (None, 4, 4, 512)         0         \n",
            "_________________________________________________________________\n",
            "flatten_3 (Flatten)          (None, 8192)              0         \n",
            "=================================================================\n",
            "Total params: 14,714,688\n",
            "Trainable params: 14,602,112\n",
            "Non-trainable params: 112,576\n",
            "_________________________________________________________________\n"
          ],
          "name": "stdout"
        }
      ]
    },
    {
      "cell_type": "code",
      "metadata": {
        "id": "2E5Kz3d66jHw",
        "colab_type": "code",
        "outputId": "67494b9d-d6ac-4593-8604-ae8bcfa56ade",
        "colab": {
          "base_uri": "https://localhost:8080/",
          "height": 1000
        }
      },
      "source": [
        "from keras.layers import InputLayer\n",
        "input_shape=vgg_model.output_shape[1]\n",
        "model=Sequential()\n",
        "model.add(InputLayer(input_shape=(input_shape,)))\n",
        "model.add(Dense(512,activation='relu',input_dim=input_shape))\n",
        "model.add(Dropout(0.4))\n",
        "model.add(Dense(512,activation='relu'))\n",
        "model.add(Dropout(0.3))\n",
        "\n",
        "model.add(Dense(1,activation='sigmoid'))\n",
        "\n",
        "model.compile(loss='binary_crossentropy',optimizer='adam',metrics=['accuracy'])\n",
        "\n",
        "model.summary()\n",
        "\n",
        "history=model.fit(x=train_features,y=y_train,validation_data=(test_features,y_test),batch_size=30,epochs=30)\n",
        "\n"
      ],
      "execution_count": 61,
      "outputs": [
        {
          "output_type": "stream",
          "text": [
            "Model: \"sequential_6\"\n",
            "_________________________________________________________________\n",
            "Layer (type)                 Output Shape              Param #   \n",
            "=================================================================\n",
            "dense_16 (Dense)             (None, 512)               4194816   \n",
            "_________________________________________________________________\n",
            "dropout_9 (Dropout)          (None, 512)               0         \n",
            "_________________________________________________________________\n",
            "dense_17 (Dense)             (None, 512)               262656    \n",
            "_________________________________________________________________\n",
            "dropout_10 (Dropout)         (None, 512)               0         \n",
            "_________________________________________________________________\n",
            "dense_18 (Dense)             (None, 1)                 513       \n",
            "=================================================================\n",
            "Total params: 4,457,985\n",
            "Trainable params: 4,457,985\n",
            "Non-trainable params: 0\n",
            "_________________________________________________________________\n",
            "Train on 22046 samples, validate on 5512 samples\n",
            "Epoch 1/30\n",
            "22046/22046 [==============================] - 7s 315us/step - loss: 0.3194 - accuracy: 0.8678 - val_loss: 0.2205 - val_accuracy: 0.9158\n",
            "Epoch 2/30\n",
            "22046/22046 [==============================] - 7s 312us/step - loss: 0.2474 - accuracy: 0.9009 - val_loss: 0.1884 - val_accuracy: 0.9294\n",
            "Epoch 3/30\n",
            "22046/22046 [==============================] - 7s 311us/step - loss: 0.2193 - accuracy: 0.9163 - val_loss: 0.1871 - val_accuracy: 0.9302\n",
            "Epoch 4/30\n",
            "22046/22046 [==============================] - 7s 304us/step - loss: 0.2196 - accuracy: 0.9165 - val_loss: 0.1756 - val_accuracy: 0.9392\n",
            "Epoch 5/30\n",
            "22046/22046 [==============================] - 7s 302us/step - loss: 0.2228 - accuracy: 0.9171 - val_loss: 0.1925 - val_accuracy: 0.9233\n",
            "Epoch 6/30\n",
            "22046/22046 [==============================] - 7s 302us/step - loss: 0.2089 - accuracy: 0.9257 - val_loss: 0.1874 - val_accuracy: 0.9360\n",
            "Epoch 7/30\n",
            "22046/22046 [==============================] - 7s 304us/step - loss: 0.1921 - accuracy: 0.9302 - val_loss: 0.1735 - val_accuracy: 0.9381\n",
            "Epoch 8/30\n",
            "22046/22046 [==============================] - 7s 319us/step - loss: 0.1868 - accuracy: 0.9332 - val_loss: 0.1771 - val_accuracy: 0.9467\n",
            "Epoch 9/30\n",
            "22046/22046 [==============================] - 7s 313us/step - loss: 0.1822 - accuracy: 0.9360 - val_loss: 0.1635 - val_accuracy: 0.9445\n",
            "Epoch 10/30\n",
            "22046/22046 [==============================] - 7s 304us/step - loss: 0.1786 - accuracy: 0.9363 - val_loss: 0.2440 - val_accuracy: 0.8999\n",
            "Epoch 11/30\n",
            "22046/22046 [==============================] - 7s 304us/step - loss: 0.1747 - accuracy: 0.9370 - val_loss: 0.1712 - val_accuracy: 0.9401\n",
            "Epoch 12/30\n",
            "22046/22046 [==============================] - 7s 300us/step - loss: 0.1754 - accuracy: 0.9387 - val_loss: 0.1740 - val_accuracy: 0.9438\n",
            "Epoch 13/30\n",
            "22046/22046 [==============================] - 7s 303us/step - loss: 0.1755 - accuracy: 0.9373 - val_loss: 0.1855 - val_accuracy: 0.9423\n",
            "Epoch 14/30\n",
            "22046/22046 [==============================] - 7s 304us/step - loss: 0.1669 - accuracy: 0.9417 - val_loss: 0.1774 - val_accuracy: 0.9447\n",
            "Epoch 15/30\n",
            "22046/22046 [==============================] - 7s 301us/step - loss: 0.1622 - accuracy: 0.9435 - val_loss: 0.1815 - val_accuracy: 0.9434\n",
            "Epoch 16/30\n",
            "22046/22046 [==============================] - 7s 303us/step - loss: 0.1634 - accuracy: 0.9416 - val_loss: 0.1835 - val_accuracy: 0.9336\n",
            "Epoch 17/30\n",
            "22046/22046 [==============================] - 7s 303us/step - loss: 0.1543 - accuracy: 0.9461 - val_loss: 0.2054 - val_accuracy: 0.9312\n",
            "Epoch 18/30\n",
            "22046/22046 [==============================] - 7s 304us/step - loss: 0.1585 - accuracy: 0.9456 - val_loss: 0.1645 - val_accuracy: 0.9416\n",
            "Epoch 19/30\n",
            "22046/22046 [==============================] - 7s 305us/step - loss: 0.1588 - accuracy: 0.9453 - val_loss: 0.1696 - val_accuracy: 0.9472\n",
            "Epoch 20/30\n",
            "22046/22046 [==============================] - 7s 304us/step - loss: 0.1486 - accuracy: 0.9490 - val_loss: 0.2421 - val_accuracy: 0.9254\n",
            "Epoch 21/30\n",
            "22046/22046 [==============================] - 7s 304us/step - loss: 0.1522 - accuracy: 0.9472 - val_loss: 0.1594 - val_accuracy: 0.9436\n",
            "Epoch 22/30\n",
            "22046/22046 [==============================] - 7s 305us/step - loss: 0.1525 - accuracy: 0.9468 - val_loss: 0.1693 - val_accuracy: 0.9452\n",
            "Epoch 23/30\n",
            "22046/22046 [==============================] - 7s 306us/step - loss: 0.1539 - accuracy: 0.9462 - val_loss: 0.1991 - val_accuracy: 0.9425\n",
            "Epoch 24/30\n",
            "22046/22046 [==============================] - 7s 303us/step - loss: 0.1447 - accuracy: 0.9500 - val_loss: 0.1680 - val_accuracy: 0.9463\n",
            "Epoch 25/30\n",
            "22046/22046 [==============================] - 7s 303us/step - loss: 0.1471 - accuracy: 0.9491 - val_loss: 0.1594 - val_accuracy: 0.9447\n",
            "Epoch 26/30\n",
            "22046/22046 [==============================] - 7s 301us/step - loss: 0.1527 - accuracy: 0.9480 - val_loss: 0.1673 - val_accuracy: 0.9461\n",
            "Epoch 27/30\n",
            "22046/22046 [==============================] - 7s 303us/step - loss: 0.1456 - accuracy: 0.9501 - val_loss: 0.1756 - val_accuracy: 0.9450\n",
            "Epoch 28/30\n",
            "22046/22046 [==============================] - 7s 301us/step - loss: 0.1374 - accuracy: 0.9524 - val_loss: 0.1548 - val_accuracy: 0.9483\n",
            "Epoch 29/30\n",
            "22046/22046 [==============================] - 7s 303us/step - loss: 0.1387 - accuracy: 0.9525 - val_loss: 0.1598 - val_accuracy: 0.9465\n",
            "Epoch 30/30\n",
            "22046/22046 [==============================] - 7s 302us/step - loss: 0.1381 - accuracy: 0.9531 - val_loss: 0.1528 - val_accuracy: 0.9468\n"
          ],
          "name": "stdout"
        }
      ]
    },
    {
      "cell_type": "code",
      "metadata": {
        "id": "Mkj__McBqkVe",
        "colab_type": "code",
        "colab": {
          "base_uri": "https://localhost:8080/",
          "height": 573
        },
        "outputId": "8071dba0-9d47-4cc4-f608-b398f25c43cc"
      },
      "source": [
        "plt.plot(history.history['accuracy'])\n",
        "plt.plot(history.history['val_accuracy'])\n",
        "plt.legend(['train','test'],loc='best')\n",
        "plt.xlabel('Epochs')\n",
        "plt.ylabel('Accuracy')\n",
        "plt.title(' Epoch Vs Accuracy')\n",
        "plt.show()\n",
        "plt.plot(history.history['loss'])\n",
        "plt.plot(history.history['val_loss'])\n",
        "plt.legend(['train','test'],loc='best')\n",
        "plt.xlabel('Epochs')\n",
        "plt.ylabel('Loss')\n",
        "plt.title('Epoch Vs Loss')\n",
        "plt.show()"
      ],
      "execution_count": 62,
      "outputs": [
        {
          "output_type": "display_data",
          "data": {
            "image/png": "[encoded data removed]",
            "text/plain": [
              "<Figure size 432x288 with 1 Axes>"
            ]
          },
          "metadata": {
            "tags": [],
            "needs_background": "light"
          }
        },
        {
          "output_type": "display_data",
          "data": {
            "image/png": "[encoded data removed]",
            "text/plain": [
              "<Figure size 432x288 with 1 Axes>"
            ]
          },
          "metadata": {
            "tags": [],
            "needs_background": "light"
          }
        }
      ]
    },
    {
      "cell_type": "markdown",
      "metadata": {
        "id": "_EEQGU-b1d1M",
        "colab_type": "text"
      },
      "source": [
        "Pre-trained Model as a Feature Extractor"
      ]
    },
    {
      "cell_type": "code",
      "metadata": {
        "id": "81lucQ2-ZizQ",
        "colab_type": "code",
        "outputId": "fbe7916c-2dc9-479a-ebd4-a32464281a1f",
        "colab": {
          "base_uri": "https://localhost:8080/",
          "height": 564
        }
      },
      "source": [
        "from keras.layers import InputLayer\n",
        "input_shape=vgg_model.output_shape[1]\n",
        "model=Sequential()\n",
        "model.add(InputLayer(input_shape=(input_shape,)))\n",
        "model.add(Dense(512,activation='relu',input_dim=input_shape))\n",
        "model.add(Dropout(0.4))\n",
        "model.add(Dense(512,activation='relu'))\n",
        "model.add(Dropout(0.3))\n",
        "\n",
        "model.add(Dense(1,activation='sigmoid'))\n",
        "\n",
        "model.compile(loss='binary_crossentropy',optimizer='adam',metrics=['accuracy'])\n",
        "\n",
        "model.summary()\n",
        "\n",
        "history=model.fit(x=train_features,y=y_train,validation_data=(test_features,y_test),\n",
        "                  callbacks=[EarlyStopping(monitor='val_loss', patience=2),\n",
        "             ModelCheckpoint(filepath='best_model.h5', monitor='val_loss', save_best_only=True)],batch_size=30,epochs=30)"
      ],
      "execution_count": 53,
      "outputs": [
        {
          "output_type": "stream",
          "text": [
            "Model: \"sequential_4\"\n",
            "_________________________________________________________________\n",
            "Layer (type)                 Output Shape              Param #   \n",
            "=================================================================\n",
            "dense_10 (Dense)             (None, 512)               4194816   \n",
            "_________________________________________________________________\n",
            "dropout_5 (Dropout)          (None, 512)               0         \n",
            "_________________________________________________________________\n",
            "dense_11 (Dense)             (None, 512)               262656    \n",
            "_________________________________________________________________\n",
            "dropout_6 (Dropout)          (None, 512)               0         \n",
            "_________________________________________________________________\n",
            "dense_12 (Dense)             (None, 1)                 513       \n",
            "=================================================================\n",
            "Total params: 4,457,985\n",
            "Trainable params: 4,457,985\n",
            "Non-trainable params: 0\n",
            "_________________________________________________________________\n",
            "Train on 22046 samples, validate on 5512 samples\n",
            "Epoch 1/30\n",
            "22046/22046 [==============================] - 7s 310us/step - loss: 0.3120 - accuracy: 0.8676 - val_loss: 0.1916 - val_accuracy: 0.9303\n",
            "Epoch 2/30\n",
            "22046/22046 [==============================] - 7s 302us/step - loss: 0.2438 - accuracy: 0.9007 - val_loss: 0.2036 - val_accuracy: 0.9309\n",
            "Epoch 3/30\n",
            "22046/22046 [==============================] - 7s 302us/step - loss: 0.2340 - accuracy: 0.9037 - val_loss: 0.1815 - val_accuracy: 0.9358\n",
            "Epoch 4/30\n",
            "22046/22046 [==============================] - 7s 302us/step - loss: 0.2087 - accuracy: 0.9188 - val_loss: 0.1783 - val_accuracy: 0.9394\n",
            "Epoch 5/30\n",
            "22046/22046 [==============================] - 7s 301us/step - loss: 0.2075 - accuracy: 0.9212 - val_loss: 0.1862 - val_accuracy: 0.9258\n",
            "Epoch 6/30\n",
            "22046/22046 [==============================] - 7s 302us/step - loss: 0.1976 - accuracy: 0.9242 - val_loss: 0.1918 - val_accuracy: 0.9358\n"
          ],
          "name": "stdout"
        }
      ]
    },
    {
      "cell_type": "code",
      "metadata": {
        "id": "2EiJ2-RNiqnT",
        "colab_type": "code",
        "colab": {}
      },
      "source": [
        "# load model for Evaluation\n",
        "from keras.models import load_model\n",
        "saved_model = load_model('best_model.h5')\n",
        "train_loss,train_acc = saved_model.evaluate(train_features, y_train, verbose=0)\n",
        "test_loss,test_acc = saved_model.evaluate(test_features, y_test, verbose=0)\n"
      ],
      "execution_count": 0,
      "outputs": []
    },
    {
      "cell_type": "code",
      "metadata": {
        "id": "EFhlc9wzrl_S",
        "colab_type": "code",
        "colab": {
          "base_uri": "https://localhost:8080/",
          "height": 34
        },
        "outputId": "5e1a3126-81bf-4466-f0bc-460b5b8f090a"
      },
      "source": [
        "# accuracy\n",
        "print('Train: %.3f, Test: %.3f' % (train_acc, test_acc))"
      ],
      "execution_count": 66,
      "outputs": [
        {
          "output_type": "stream",
          "text": [
            "Train: 0.943, Test: 0.939\n"
          ],
          "name": "stdout"
        }
      ]
    },
    {
      "cell_type": "code",
      "metadata": {
        "id": "zc1mFtA50gJn",
        "colab_type": "code",
        "outputId": "fe6a2d2f-aa58-42eb-9942-39f7e71596ee",
        "colab": {
          "base_uri": "https://localhost:8080/",
          "height": 34
        }
      },
      "source": [
        "# loss\n",
        "print('Train: %.3f, Test: %.3f' % (train_loss, test_loss))"
      ],
      "execution_count": 67,
      "outputs": [
        {
          "output_type": "stream",
          "text": [
            "Train: 0.169, Test: 0.178\n"
          ],
          "name": "stdout"
        }
      ]
    },
    {
      "cell_type": "code",
      "metadata": {
        "id": "asJjp-SM1FP2",
        "colab_type": "code",
        "colab": {}
      },
      "source": [
        ""
      ],
      "execution_count": 0,
      "outputs": []
    }
  ]
}